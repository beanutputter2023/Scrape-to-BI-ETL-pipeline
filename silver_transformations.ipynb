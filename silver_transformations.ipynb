{
 "cells": [
  {
   "cell_type": "code",
   "execution_count": 0,
   "metadata": {
    "application/vnd.databricks.v1+cell": {
     "cellMetadata": {
      "byteLimit": 2048000,
      "rowLimit": 10000
     },
     "inputWidgets": {},
     "nuid": "e2b10664-a88d-4e6e-876f-0a82cd8da54d",
     "showTitle": false,
     "tableResultSettingsMap": {},
     "title": ""
    }
   },
   "outputs": [],
   "source": [
    "from pyspark.sql import functions as F\n",
    "\n",
    "# Load bronze table\n",
    "bronze_df = spark.table(\"etl_catalog.etl_db.remoteok_bronze\")\n",
    "\n",
    "# Transformations\n",
    "silver_df = bronze_df \\\n",
    "    .withColumn(\"date\", F.to_timestamp(\"date\", \"yyyy-MM-dd'T'HH:mm:ssXXX\")) \\\n",
    "    .withColumn(\"salary_min\", F.col(\"salary_min\").cast(\"double\")) \\\n",
    "    .withColumn(\"salary_max\", F.col(\"salary_max\").cast(\"double\")) \\\n",
    "    .withColumn(\"tags\", F.concat_ws(\", \", \"tags\")) \\\n",
    "    .withColumn(\"company\", F.when(F.col(\"company\").isNull() | (F.col(\"company\") == \"\"), \"Unknown\")\n",
    "                             .otherwise(F.col(\"company\"))) \\\n",
    "    .withColumn(\"position\", F.when(F.col(\"position\").isNull() | (F.col(\"position\") == \"\"), \"Unknown\")\n",
    "                              .otherwise(F.col(\"position\"))) \\\n",
    "    .withColumn(\"location\", F.when(F.col(\"location\").isNull() | (F.col(\"location\") == \"\"), \"Remote\")\n",
    "                              .otherwise(F.col(\"location\"))) \\\n",
    "    .withColumn(\"job_age_days\", F.datediff(F.current_date(), F.col(\"date\"))) \\\n",
    "    .withColumn(\"salary_range\", F.col(\"salary_max\") - F.col(\"salary_min\")) \\\n",
    "    .drop(\"logo\", \"apply_url\", \"epoch\")\n",
    "\n",
    "# Reorder columns so id is first\n",
    "cols = [\"id\"] + [c for c in silver_df.columns if c != \"id\"]\n",
    "silver_df = silver_df.select(cols)\n",
    "\n",
    "# Save to silver table\n",
    "silver_df.write.format(\"delta\").mode(\"overwrite\").saveAsTable(\"etl_catalog.etl_db.remoteok_silver\")\n",
    "\n",
    "print(\"Silver table created: etl_db.remoteok_silver\")\n"
   ]
  },
  {
   "cell_type": "code",
   "execution_count": 0,
   "metadata": {
    "application/vnd.databricks.v1+cell": {
     "cellMetadata": {
      "byteLimit": 2048000,
      "implicitDf": true,
      "rowLimit": 10000
     },
     "inputWidgets": {},
     "nuid": "af95210b-587a-47e0-8af5-697d58a2dbee",
     "showTitle": false,
     "tableResultSettingsMap": {},
     "title": ""
    }
   },
   "outputs": [],
   "source": [
    "%sql\n",
    "Select * from etl_catalog.etl_db.remoteok_silver order by id limit 5"
   ]
  },
  {
   "cell_type": "code",
   "execution_count": 0,
   "metadata": {
    "application/vnd.databricks.v1+cell": {
     "cellMetadata": {
      "byteLimit": 2048000,
      "implicitDf": true,
      "rowLimit": 10000
     },
     "inputWidgets": {},
     "nuid": "b16322c3-6799-4368-9ba0-456ddc34e6ab",
     "showTitle": false,
     "tableResultSettingsMap": {},
     "title": ""
    }
   },
   "outputs": [],
   "source": [
    "%sql\n",
    "describe etl_catalog.etl_db.remoteok_silver"
   ]
  },
  {
   "cell_type": "code",
   "execution_count": 0,
   "metadata": {
    "application/vnd.databricks.v1+cell": {
     "cellMetadata": {},
     "inputWidgets": {},
     "nuid": "322fe81d-53ad-4cfe-a516-da6479a8d414",
     "showTitle": false,
     "tableResultSettingsMap": {},
     "title": ""
    }
   },
   "outputs": [],
   "source": []
  }
 ],
 "metadata": {
  "application/vnd.databricks.v1+notebook": {
   "computePreferences": {
    "hardware": {
     "accelerator": null,
     "gpuPoolId": null,
     "memory": null
    }
   },
   "dashboards": [],
   "environmentMetadata": {
    "base_environment": "",
    "environment_version": "2"
   },
   "inputWidgetPreferences": null,
   "language": "python",
   "notebookMetadata": {
    "mostRecentlyExecutedCommandWithImplicitDF": {
     "commandId": 5733965605714970,
     "dataframes": [
      "_sqldf"
     ]
    },
    "pythonIndentUnit": 4
   },
   "notebookName": "silver_transformations",
   "widgets": {}
  },
  "language_info": {
   "name": "python"
  }
 },
 "nbformat": 4,
 "nbformat_minor": 0
}
